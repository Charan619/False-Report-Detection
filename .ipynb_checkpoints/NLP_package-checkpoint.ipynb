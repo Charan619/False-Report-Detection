{
 "cells": [
  {
   "cell_type": "markdown",
   "metadata": {},
   "source": [
    "# NLP Package\n",
    "## Topic : Fake Reports Identifier\n",
    "### Team\n",
    "* 18pt15 - Jeyakumaran M\n",
    "* 18pt41 - Charan K R"
   ]
  },
  {
   "cell_type": "code",
   "execution_count": 1,
   "metadata": {},
   "outputs": [],
   "source": [
    "# Libraries to be imported\n",
    "from sklearn.model_selection import train_test_split\n",
    "from sklearn.feature_extraction.text import CountVectorizer\n",
    "from sklearn.feature_extraction.text import TfidfVectorizer\n",
    "from sklearn import svm\n",
    "from sklearn.naive_bayes import MultinomialNB\n",
    "from sklearn import metrics\n",
    "from sklearn.metrics import confusion_matrix\n",
    "from sklearn.ensemble import RandomForestClassifier\n",
    "from matplotlib import pyplot as plt\n",
    "from sklearn.linear_model import PassiveAggressiveClassifier\n",
    "from sklearn.linear_model import RidgeClassifier\n",
    "from sklearn.feature_extraction.text import HashingVectorizer\n",
    "import itertools\n",
    "import numpy as np\n",
    "import pandas as pd\n",
    "from sklearn.preprocessing import LabelEncoder\n",
    "from nltk.tokenize import word_tokenize\n",
    "from nltk import pos_tag\n",
    "from nltk.corpus import stopwords\n",
    "from nltk.stem import WordNetLemmatizer\n",
    "from collections import defaultdict\n",
    "from nltk.corpus import wordnet as wn\n",
    "import nltk\n",
    "from sklearn.metrics import plot_confusion_matrix\n"
   ]
  },
  {
   "cell_type": "markdown",
   "metadata": {},
   "source": [
    "### Getting Data"
   ]
  },
  {
   "cell_type": "code",
   "execution_count": 2,
   "metadata": {},
   "outputs": [],
   "source": [
    "#Getting Data\n",
    "df1 = pd.read_fwf('data/data_doctor_truthful.txt', header=None)\n",
    "df2 = pd.read_fwf('data/data_doctor_deceptive.txt', header=None)\n",
    "df1[1]=1\n",
    "df2[1]=0\n",
    "frames = [df1, df2]\n",
    "df = pd.concat(frames)\n",
    "df.drop(df.iloc[:, 2:94], inplace = True, axis = 1)\n",
    "df.columns = ['text','label']"
   ]
  },
  {
   "cell_type": "markdown",
   "metadata": {},
   "source": [
    "### Processing Data"
   ]
  },
  {
   "cell_type": "code",
   "execution_count": 3,
   "metadata": {},
   "outputs": [
    {
     "name": "stdout",
     "output_type": "stream",
     "text": [
      "{'aboolian': 10, 'staff': 2379, 'initial': 1293, 'expectation': 916, 'maintain': 1523, 'high': 1196, 'level': 1444, 'professionalism': 1955, 'make': 1525, 'feel': 971, 'comfortable': 484, 'fact': 947, 'ease': 799, 'definitely': 671, 'important': 1267, 'element': 825, 'surgical': 2466, 'procedure': 1947, 'lose': 1498, 'pound': 1894, 'need': 1654, 'breast': 338, 'lift': 1453, 'enlargement': 853, 'consult': 558, 'doctor': 761, 'meet': 1565, 'evident': 887, 'right': 2152, 'choice': 442, 'trust': 2610, 'life': 1448, 'want': 2748, 'result': 2135, 'different': 720, 'recommend': 2044, 'interested': 1324, 'cosmetic': 591, 'surgery': 2465, 'california': 385, 'land': 1417, 'calgary': 383, 'immigrant': 1262, 'fortunate': 1033, 'greyvenstein': 1117, 'nice': 1673, 'care': 400, 'pregnancy': 1911, 'baby': 250, 'birth': 301, 'nervous': 1665, 'time': 2570, 'mom': 1616, 'meeting': 1566, 'determined': 704, 'ca': 380, 'thank': 2532, 'subordinate': 2436, 'rockyview': 2160, 'hospital': 1227, 'ofcourse': 1715, 'forget': 1027, 'helpful': 1188, 'welcoming': 2775, 'clinic': 462, 'really': 2021, 'add': 48, 'new': 1671, 'say': 2198, 'happy': 1149, 'accept': 18, 'patient': 1801, 'near': 1649, 'live': 1479, 'quality': 1991, 'like': 1456, 'welcome': 2773, 'bonus': 323, 'great': 1110, 'worth': 2821, 'drive': 786, 'south': 2349, 'awesome': 242, 'deliver': 682, 'child': 438, 'wish': 2800, 'blessed': 311, 'receive': 2031, 'family': 954, 'thoughtful': 2555, 'considerate': 550, 'genuine': 1077, 'rapport': 2005, 'kid': 1385, 'normally': 1681, 'cheerful': 436, 'love': 1503, 'dr': 777, 'awsome': 246, 'chance': 427, 'health': 1172, 'website': 2766, 'actually': 46, 'look': 1494, 'female': 976, 'coul': 595, 'miscarrages': 1599, 'send': 2237, 'test': 2528, 'wo': 2805, 'drug': 789, 'prometium': 1960, 'think': 2543, 'help': 1187, 'beautiful': 273, 'girl': 1088, 'practice': 1898, 'recently': 2033, 'glad': 1090, 'far': 957, 'second': 2224, 'husband': 1245, 'know': 1393, 'regret': 2072, 'diagnose': 710, 'group': 1121, 'lucky': 1511, 'hard': 1150, 'come': 481, 'thanks': 2535, 'listtening': 1473, 'amazing': 109, 'soooo': 2343, 'answer': 133, 'question': 1993, 'thorough': 2551, 'passionate': 1796, 'special': 2356, 'daughter': 642, 'magical': 1519, 'way': 2762, 'talk': 2493, 'easy': 804, 'eye': 939, 'year': 2832, 'ago': 80, 'good': 1097, 'listen': 1470, 'dose': 769, 'waste': 2758, 'genuinly': 1079, 'pateints': 1798, 'worry': 2820, 'quickly': 1995, 'hesitate': 1193, 'bring': 353, 'knowing': 1394, 'parent': 1787, 'greet': 1113, 'smile': 2325, 'career': 401, 'recomened': 2042, 'saskatchewan': 2187, 'miss': 1605, 'person': 1825, 'genuinely': 1078, 'happen': 1145, 'rush': 2176, 'door': 768, 'ask': 193, 'better': 294, 'able': 7, 'number': 1694, 'spoil': 2371, 'compare': 500, 'regina': 2071, 'kind': 1387, 'mention': 1574, 'bit': 302, 'crush': 625, 'hope': 1221, 'highly': 1197, 'straight': 2414, 'point': 1872, 'fast': 958, 'apopintments': 146, 'overwhelm': 1769, 'ton': 2581, 'information': 1290, 'tell': 2516, 'stuff': 2430, 'week': 2768, 'month': 1624, 'routine': 2168, 'check': 433, 'everytime': 886, 'unlike': 2665, 'friend': 1054, 'big': 296, 'downfall': 774, 'wait': 2740, 'office': 1717, 'minute': 1596, 'day': 645, 'lot': 1501, 'consultation': 560, 'beginning': 283, 'end': 842, 'wonderful': 2809, 'honestly': 1215, 'choose': 443, 'importantly': 1268, 'appreciate': 155, 'honesty': 1216, 'hand': 1140, 'viviers': 2735, 'extremely': 938, 'intelligent': 1320, 'mentally': 1573, 'physically': 1843, 'francois': 1044, 'symptom': 2487, 'small': 2322, 'son': 2340, 'strep': 2420, 'throat': 2562, 'ear': 795, 'infection': 1286, 'eventually': 884, 'confidence': 537, 'reassure': 2025, 'rat': 2009, 'forever': 1026, 'little': 1478, 'sit': 2304, 'gift': 1086, 'sincerely': 2297, 'tamara': 2495, 'mitchell': 1610, 'dedla': 660, 'stony': 2408, 'plain': 1856, 'stonehocker': 2407, 'bother': 328, 'hour': 1229, 'busy': 376, 'nope': 1679, 'lol': 1485, 'people': 1814, 'doc': 758, 'emergency': 834, 'follow': 1016, 'numerous': 1697, 'visit': 2729, 'er': 871, 'understanding': 2647, 'act': 44, 'hurry': 1243, 'appointment': 154, 'complaint': 511, 'receptionist': 2037, 'delivery': 683, 'plan': 1858, 'continue': 568, 'yr': 2840, 'focus': 1015, 'attain': 216, 'state': 2388, 'knee': 1390, 'problem': 1945, 'truly': 2609, 'address': 52, 'issue': 1346, 'regard': 2069, 'chronic': 447, 'condition': 534, 'hat': 1160, 'alberta': 89, 'best': 293, 'post': 1888, 'polio': 1873, 'syndrome': 2488, 'tolerate': 2579, 'pps': 1897, 'pain': 1776, 'challenge': 426, 'drs': 788, 'fort': 1030, 'erie': 874, 'try': 2614, 'vivier': 2734, 'jack': 1353, 'babcock': 249, 'boy': 332, 'sure': 2463, 'understand': 2645, 'explain': 926, 'thing': 2542, 'luck': 1509, 'location': 1484, 'colleen': 476, 'labby': 1404, 'suffer': 2444, 'greatly': 1112, 'turn': 2620, 'ill': 1252, 'shortly': 2275, 'hell': 1185, 'bad': 255, 'ontario': 1726, 'fine': 995, 'man': 1529, 'tempt': 2518, 'professional': 1954, 'md': 1555, 'town': 2589, 'remember': 2096, 'previous': 1929, 'concern': 526, 'abiltiy': 6, 'conversation': 580, 'light': 1454, 'humor': 1239, 'appropriate': 163, 'order': 1739, 'knowledgable': 1396, 'woman': 2807, 'sport': 2372, 'injury': 1299, 'sense': 2238, 'humour': 1240, 'yes': 2835, 'sexy': 2257, 'start': 2387, 'long': 1490, 'nevers': 1670, 'trivial': 2605, 'likely': 1459, 'popularity': 1879, 'agree': 81, 'excellent': 899, 'refer': 2059, 'investigation': 1335, 'unmatched': 2666, 'treat': 2600, 'dumb': 790, 'rambunctious': 2002, 'disappoint': 734, 'richards': 2150, 'impress': 1271, 'low': 1505, 'pressure': 1923, 'approach': 161, 'option': 1737, 'completely': 514, 'demonstrate': 687, 'kindness': 1388, 'dedication': 659, 'skill': 2310, 'perform': 1821, 'eyelid': 940, 'later': 1423, 'remove': 2101, 'old': 1723, 'implant': 1265, 'capsular': 397, 'contracture': 574, 'replace': 2109, 'exceptional': 901, 'surgeon': 2464, 'imagine': 1256, 'pleased': 1864, 'outcome': 1752, 'augmentation': 228, 'impressed': 1272, 'rhinoplasty': 2146, 'bruising': 362, 'experience': 921, 'phenomenal': 1838, 'miracle': 1597, 'worker': 2816, 'sell': 2236, 'gentle': 1075, 'guide': 1126, 'night': 1675, 'truely': 2608, 'course': 605, 'genuis': 1080, 'work': 2815, 'mini': 1591, 'facelift': 944, 'young': 2836, 'skeptical': 2309, 'complicated': 518, 'image': 1255, 'recovery': 2053, 'closer': 466, 'dramatic': 778, 'effect': 813, 'appearance': 150, 'extensive': 933, 'natural': 1642, 'future': 1064, 'knowledgeable': 1398, 'talented': 2492, 'anxious': 138, 'felt': 975, 'confident': 538, 'discomfort': 738, 'healing': 1168, 'process': 1950, 'smoothly': 2328, 'credit': 619, 'richard': 2149, 'seriously': 2245, 'consider': 548, 'face': 943, 'lipo': 1465, 'responsive': 2131, 'home': 1212, 'phone': 1839, 'minimal': 1592, 'change': 428, 'drastic': 779, 'self': 2234, 'esteem': 880, 'member': 1568, 'use': 2697, 'service': 2248, 'decision': 654, 'provide': 1971, 'defintely': 674, 'angela': 125, 'circumstance': 452, 'supportive': 2460, 'personable': 1826, 'relatiable': 2077, 'blip': 313, 'patience': 1800, 'support': 2459, 'team': 2503, 'lxp': 1516, 'meticulous': 1579, 'spend': 2368, 'interview': 1331, 'review': 2144, 'risk': 2154, 'scoff': 2209, 'list': 1469, 'twice': 2622, 'decide': 653, 'photo': 1840, 'specific': 2361, 'body': 320, 'structure': 2428, 'close': 464, 'addition': 49, 'army': 176, 'discipline': 737, 'burn': 374, 'unit': 2662, 'tough': 2588, 'complication': 519, 'include': 1280, 'fee': 969, 'detailed': 702, 'demeanor': 685, 'amaze': 107, 'afraid': 74, 'polite': 1874, 'throught': 2563, 'caring': 405, 'skilled': 2311, 'alternative': 106, 'expect': 915, 'fantastic': 956, 'personnel': 1832, 'nurse': 1698, 'provider': 1972, 'center': 416, 'outstanding': 1759, 'prosedure': 1969, 'contact': 563, 'plastic': 1859, 'march': 1538, 'handle': 1142, 'manner': 1534, 'incision': 1279, 'barely': 259, 'noticeable': 1690, 'wear': 2764, 'hair': 1136, 'pull': 1980, 'operative': 1733, 'progress': 1959, 'advise': 66, 'attend': 218, 'social': 2331, 'event': 883, 'satisfied': 2192, 'overall': 1761, 'neck': 1653, 'jaw': 1357, 'line': 1462, 'youthful': 2839, 'seek': 2229, 'gifted': 1087, 'surpass': 2467, 'countless': 601, 'forward': 1035, 'medical': 1558, 'exceed': 897, 'masterfully': 1548, 'enhance': 849, 'size': 2307, 'shape': 2262, 'rid': 2151, 'tuberous': 2615, 'alive': 96, 'lightly': 1455, 'entire': 864, 'seamless': 2221, 'quick': 1994, 'screening': 2213, 'painless': 1779, 'informative': 1291, 'picture': 1850, 'friendly': 1056, 'fair': 950, 'honest': 1214, 'strongly': 2427, 'seven': 2253, 'skin': 2313, 'specialist': 2357, 'research': 2118, 'select': 2233, 'discuss': 742, 'candid': 392, 'opinion': 1734, 'unrealistic': 2672, 'promise': 1961, 'push': 1987, 'invite': 1336, 'anytime': 141, 'impose': 1269, 'silly': 2290, 'upper': 2686, 'final': 992, 'apparent': 147, 'jawline': 1358, 'define': 667, 'saggy': 2184, 'jowl': 1368, 'area': 169, 'smooth': 2327, 'nose': 1684, 'improve': 1275, 'stop': 2409, 'cut': 631, 'chin': 440, 'local': 1482, 'anethesia': 122, 'heard': 1176, 'intern': 1325, 'possible': 1886, 'nerve': 1662, 'damage': 638, 'facae': 942, 'perfectly': 1820, 'balance': 257, 'idea': 1247, 'remark': 2094, 'looked': 1495, 'cathe': 412, 'ford': 1023, 'catonsville': 413, 'maryland': 1543, 'ed': 807, 'teacher': 2502, 'hip': 1201, 'liposuciton': 1467, 'waist': 2739, 'east': 803, 'coast': 470, 'arm': 173, 'sweater': 2478, 'lady': 1412, 'safety': 2182, 'enthusiasm': 863, 'delight': 681, 'gratifying': 1107, 'privilege': 1940, 'famly': 955, 'job': 1361, 'background': 251, 'education': 811, 'satisfication': 2191, 'certain': 418, 'board': 319, 'certify': 423, 'return': 2140, 'mother': 1630, 'sister': 2303, 'healthcare': 1173, 'client': 461, 'field': 987, 'allow': 101, 'compliment': 520, 'men': 1570, 'proponent': 1967, 'advocate': 67, 'mommy': 1618, 'makeover': 1526, 'vaser': 2715, 'liposuction': 1468, 'inner': 1300, 'outer': 1754, 'thigh': 2540, 'abdomen': 2, 'flank': 1005, 'knowlegeable': 1401, 'hop': 1220, 'bernardo': 292, 'discharge': 736, 'empathetic': 836, 'bedside': 279, 'obviously': 1709, 'barnardo': 260, 'million': 1588, 'irritate': 1344, 'punctual': 1984, 'promptly': 1963, 'reccommend': 2030, 'personality': 1828, 'determine': 703, 'solution': 2337, 'illness': 1253, 'present': 1921, 'comfort': 483, 'wellbeing': 2776, 'city': 453, 'satisfy': 2193, 'exactly': 890, 'january': 1355, 'norwalk': 1683, 'fiasco': 984, 'didnt': 716, 'teenage': 2511, 'liked': 1458, 'naturally': 1643, 'safely': 2181, 'certainly': 419, 'compassionate': 503, 'immediate': 1259, 'okay': 1722, 'believe': 285, 'personal': 1827, 'definately': 665, 'teach': 2501, 'bless': 310, 'fall': 953, 'lovely': 1504, 'automatically': 232, 'discredit': 740, 'control': 577, 'method': 1578, 'cram': 614, 'pill': 1853, 'open': 1728, 'medicine': 1562, 'tend': 2519, 'hurt': 1244, 'moment': 1617, 'downside': 775, 'receognizes': 2034, 'file': 990, 'remembers': 2097, 'receptive': 2038, 'therapy': 2539, 'outside': 1758, 'model': 1612, 'ensthusiastic': 857, 'difficult': 721, 'angie': 126, 'sweetheart': 2479, 'speak': 2353, 'layman': 1427, 'term': 2523, 'grow': 1122, 'available': 235, 'public': 1977, 'brother': 359, 'sticker': 2401, 'heartbeat': 1178, 'absolutely': 13, 'names': 1638, 'leave': 1431, 'message': 1576, 'mean': 1556, 'excite': 904, 'especially': 878, 'refers': 2063, 'generally': 1070, 'sad': 2179, 'referral': 2062, 'quite': 1998, 'reschedule': 2117, 'absolute': 11, 'mind': 1590, 'world': 2818, 'intently': 1322, 'physician': 1845, 'hate': 1161, 'extra': 935, 'min': 1589, 'docotors': 759, 'lesson': 1442, 'ayling': 247, 'true': 2607, 'hear': 1175, 'horror': 1226, 'story': 2411, 'relieve': 2089, 'pregnant': 1912, 'terrible': 2525, 'cause': 415, 'anxiety': 137, 'refuse': 2068, 'unless': 2664, 'attentive': 220, 'emphatic': 837, 'rn': 2156, 'grant': 1105, 'gp': 1099, 'rare': 2006, 'compiications': 510, 'hold': 1208, 'late': 1422, 'listener': 1471, 'stay': 2391, 'severe': 2254, 'ferry': 981, 'gulf': 1129, 'island': 1345, 'despite': 701, 'province': 1973, 'memory': 1569, 'word': 2813, 'commendable': 489, 'longer': 1491, 'distance': 755, 'form': 1028, 'pratice': 1902, 'frank': 1045, 'discussion': 743, 'treatment': 2601, 'ego': 819, 'house': 1230, 'plainly': 1857, 'wife': 2789, 'remain': 2093, 'retire': 2139, 'rating': 2011, 'individual': 1285, 'redundant': 2058, 'repeat': 2107, 'comment': 490, 'explanation': 927, 'inspire': 1307, 'punctuality': 1985, 'run': 2175, 'tummy': 2618, 'tuck': 2616, 'thights': 2541, 'silverman': 2292, 'scarring': 2201, 'positive': 1883, 'stomach': 2405, 'huge': 1233, 'difference': 719, 'simply': 2296, 'gym': 1132, 'flat': 1006, 'diamond': 714, 'belly': 286, 'button': 378, 'whisper': 2787, 'boil': 321, 'free': 1048, 'assessment': 198, 'ok': 1720, 'worried': 2819, 'cost': 592, 'inteview': 1332, 'half': 1137, 'hang': 1143, 'soon': 2341, 'remarkable': 2095, 'breats': 343, 'perfection': 1817, 'saw': 2197, 'case': 408, 'charge': 429, 'plus': 1869, 'touch': 2587, 'calm': 386, 'perfectionnist': 1819, 'super': 2454, 'reduction': 2057, 'aweful': 241, 'deform': 675, 'success': 2438, 'suggestion': 2448, 'thinking': 2544, 'walk': 2744, 'book': 324, 'contradictive': 575, 'normal': 1680, 'sign': 2286, 'upset': 2688, 'relationship': 2078, 'brenda': 346, 'assistant': 205, 'step': 2396, 'clean': 457, 'truth': 2613, 'almonte': 103, 'ups': 2687, 'sorry': 2346, 'replacement': 2110, 'necessary': 1652, 'save': 2194, 'money': 1620, 'drop': 787, 'fully': 1060, 'revise': 2145, 'simple': 2295, 'ideal': 1248, 'tho': 2549, 'disagree': 732, 'minor': 1594, 'satisfaction': 2189, 'paramount': 1786, 'impossible': 1270, 'advice': 65, 'read': 2013, 'negative': 1658, 'muscle': 1636, 'repair': 2106, 'leg': 1435, 'short': 2273, 'totally': 2586, 'hernia': 1189, 'brand': 335, 'transsexual': 2598, 'invloved': 1338, 'june': 1376, 'past': 1797, 'tuesday': 2617, 'heal': 1167, 'prior': 1936, 'wow': 2823, 'younger': 2837, 'notch': 1686, 'type': 2624, 'abdominoplasty': 4, 'straighforward': 2413, 'enjoy': 851, 'secretary': 2226, 'instead': 1310, 'scribble': 2214, 'pad': 1774, 'shove': 2278, 'appropriatly': 164, 'dress': 784, 'scrub': 2217, 'pleasant': 1862, 'ure': 2690, 'sthere': 2398, 'kriegler': 1402, 'fail': 949, 'matter': 1551, 'easily': 802, 'appts': 168, 'limit': 1460, 'serve': 2247, 'lie': 1447, 'horrible': 1225, 'wouldnt': 2822, 'becuase': 277, 'saskatoon': 2188, 'fell': 973, 'inferior': 1287, 'hardly': 1151, 'dig': 724, 'shes': 2267, 'warm': 2749, 'ive': 1347, 'cancel': 390, 'couple': 603, 'threaten': 2558, 'im': 1254, 'greatful': 1111, 'practitioner': 1900, 'respect': 2122, 'eager': 794, 'asks': 195, 'embarassed': 830, 'needed': 1655, 'fairly': 951, 'sooner': 2342, 'possess': 1884, 'competent': 506, 'diagnosis': 712, 'breath': 340, 'fresh': 1052, 'air': 87, 'regular': 2073, 'occassions': 1711, 'mediclinic': 1563, 'learn': 1429, 'knowledge': 1397, 'orthopedics': 1747, 'physiotherapist': 1847, 'expert': 923, 'begin': 282, 'assess': 197, 'mannerism': 1535, 'communicate': 494, 'immediately': 1260, 'directly': 730, 'street': 2418, 'orthopedic': 1746, 'angel': 124, 'earth': 798, 'accepts': 21, 'input': 1302, 'wise': 2799, 'valid': 2703, 'gay': 1068, 'sensitive': 2239, 'lgbt': 1445, 'effort': 817, 'willing': 2793, 'occupation': 1712, 'reminder': 2099, 'thousand': 2557, 'exception': 900, 'misdiganosed': 1602, 'sicker': 2282, 'catch': 411, 'misdiganose': 1601, 'compassion': 502, 'flaw': 1007, 'mazza': 1554, 'whelan': 2783, 'away': 240, 'hole': 1209, 'lung': 1514, 'nuclear': 1693, 'thought': 2554, 'hasell': 1156, 'today': 2577, 'pleasantly': 1863, 'surprise': 2469, 'posting': 1891, 'site': 2305, 'apprehensive': 160, 'ahead': 82, 'peggy': 1812, 'equally': 868, 'reference': 2061, 'excited': 905, 'upcoming': 2682, 'hasel': 1155, 'accomdating': 24, 'knock': 1392, 'thrill': 2561, 'prescribed': 1918, 'stitch': 2402, 'dissolve': 754, 'making': 1527, 'funny': 1062, 'ii': 1251, 'encounter': 839, 'stand': 2384, 'desk': 698, 'pay': 1803, 'telephone': 2514, 'rudely': 2172, 'chair': 425, 'ready': 2016, 'scold': 2210, 'rude': 2171, 'shock': 2270, 'suppose': 2461, 'counter': 600, 'finally': 993, 'apologize': 145, 'warrant': 2753, 'excuse': 908, 'yell': 2834, 'customer': 630, 'single': 2300, 'incredibly': 1283, 'favour': 966, 'unwilling': 2681, 'regardless': 2070, 'september': 2242, 'originally': 1745, 'noticable': 1688, 'large': 1420, 'thats': 2536, 'dont': 767, 'accommodates': 26, 'constraint': 557, 'switch': 2483, 'nasty': 1640, 'humiliate': 1237, 'room': 2164, 'announce': 129, 'everybody': 885, 'aside': 192, 'appear': 149, 'uncaring': 2637, 'rumour': 2174, 'remind': 2098, 'pittbull': 1854, 'pm': 1870, 'ba': 248, 'july': 1374, 'swell': 2480, 'anesthetic': 121, 'emotional': 835, 'spends': 2369, 'album': 90, 'similar': 2294, 'operating': 1731, 'perceptive': 1815, 'genetic': 1073, 'disease': 744, 'appt': 167, 'misundestanding': 1609, 'fault': 963, 'facility': 946, 'nightmare': 1676, 'unbearable': 2634, 'utmost': 2701, 'match': 1549, 'arise': 172, 'overcompensate': 1764, 'hassel': 1157, 'understandng': 2648, 'thirteen': 2548, 'perticular': 1835, 'unfortunate': 2659, 'disability': 731, 'blame': 305, 'frustrate': 1058, 'compasison': 501, 'secure': 2228, 'expertise': 924, 'rate': 2010, 'adult': 62, 'frequently': 1051, 'ang': 123, 'concerned': 527, 'deal': 646, 'lacking': 1408, 'thankful': 2533, 'whalen': 2781, 'middle': 1582, 'morning': 1628, 'rest': 2132, 'lifes': 1450, 'obstacle': 1703, 'north': 1682, 'awful': 243, 'exam': 892, 'notice': 1689, 'mole': 1615, 'biopsy': 299, 'reveal': 2141, 'dearly': 649, 'mood': 1627, 'shortage': 2274, 'southern': 2350, 'lurie': 1515, 'nature': 1644, 'teenaged': 2512, 'michelle': 1581, 'soft': 2334, 'voice': 2736, 'michele': 1580, 'manager': 1532, 'immediatley': 1261, 'clear': 458, 'stock': 2403, 'courtice': 609, 'orient': 1744, 'environment': 866, 'arnold': 178, 'early': 797, 'canada': 389, 'thornhill': 2550, 'multiple': 1635, 'attempt': 217, 'somewhat': 2339, 'iontelligent': 1342, 'wpnmderful': 2824, 'cannpt': 394, 'fpund': 1039, 'hje': 1206, 'knack': 1389, 'terribly': 2526, 'howley': 1232, 'ability': 5, 'disappointed': 735, 'successful': 2439, 'smart': 2323, 'litte': 1477, 'scar': 2200, 'cute': 632, 'allready': 102, 'bloke': 315, 'kelly': 1383, 'lindsay': 1461, 'guy': 1131, 'wayne': 2763, 'nerveous': 1663, 'perfect': 1816, 'wont': 2811, 'profesionnel': 1952, 'stress': 2421, 'opportunity': 1735, 'previledge': 1928, 'precise': 1906, 'feedback': 970, 'toronto': 2584, 'rhytidectomy': 2147, 'blepharoplasty': 309, 'extreme': 937, 'robinson': 2159, 'relative': 2079, 'burke': 373, 'skillful': 2312, 'travel': 2599, 'cordial': 587, 'collegue': 478, 'qualified': 1990, 'desire': 697, 'kathy': 1380, 'schedule': 2205, 'facial': 945, 'sugery': 2446, 'incredible': 1282, 'compfortable': 509, 'oveall': 1760, 'recommeded': 2043, 'mothet': 1631, 'expreience': 930, 'forrest': 1029, 'amazingly': 110, 'unbelievable': 2635, 'undergone': 2643, 'major': 1524, 'catscans': 414, 'realize': 2020, 'god': 1094, 'strength': 2419, 'steadiness': 2393, 'sharpness': 2264, 'brilliance': 350, 'renowned': 2104, 'caliber': 384, 'sick': 2281, 'heartfelt': 1180, 'stressful': 2422, 'bearable': 271, 'dedicated': 658, 'talent': 2491, 'unsurpassed': 2677, 'humility': 1238, 'humbleness': 1236, 'inspiration': 1306, 'role': 2161, 'train': 2591, 'profession': 1953, 'conjunction': 543, 'pediatric': 1808, 'emerge': 833, 'lead': 1428, 'craniofacial': 616, 'america': 113, 'perfectionist': 1818, 'desperately': 700, 'operate': 1730, 'lottery': 1502, 'capable': 396, 'delay': 678, 'poor': 1877, 'win': 2794, 'wiining': 2790, 'ticket': 2568, 'gain': 1065, 'arthritis': 185, 'probably': 1943, 'press': 1922, 'extraordinary': 936, 'brilliant': 351, 'count': 599, 'craniosynistosis': 617, 'duty': 792, 'revered': 2142, 'tone': 2582, 'sculpt': 2219, 'curve': 629, 'bc': 266, 'diet': 718, 'precious': 1905, 'age': 78, 'possibly': 1887, 'require': 2115, 'bed': 278, 'alison': 95, 'warmth': 2751, 'base': 261, 'winning': 2797, 'commit': 492, 'fabulous': 941, 'continued': 569, 'involvement': 1341, 'availability': 234, 'spirit': 2370, 'heart': 1177, 'artist': 188, 'accident': 23, 'lefort': 1433, 'seroius': 2246, 'usually': 2700, 'rebiult': 2027, 'hardware': 1152, 'impurfections': 1276, 'master': 1547, 'owe': 1771, 'business': 375, 'visual': 2730, 'compentent': 505, 'broken': 357, 'descibe': 694, 'sunnybrook': 2453, 'place': 1855, 'armstrong': 175, 'terrific': 2527, 'happiness': 1148, 'grim': 1118, 'heaven': 1181, 'sent': 2240, 'deserve': 696, 'score': 2211, 'transfer': 2595, 'london': 1489, 'blood': 316, 'doesnt': 764, 'bear': 270, 'cranial': 615, 'hoffman': 1207, 'finishing': 997, 'adjust': 54, 'university': 2663, 'enormous': 856, 'debt': 651, 'statue': 2389, 'honour': 1218, 'waiting': 2741, 'nave': 1645, 'practise': 1899, 'squeeze': 2377, 'commfort': 491, 'careing': 404, 'thoual': 2553, 'scrugged': 2218, 'shoulder': 2277, 'scary': 2202, 'benifits': 289, 'maybe': 1553, 'fit': 1001, 'firm': 998, 'articulate': 187, 'guilty': 1128, 'abuse': 15, 'repeatadly': 2108, 'inappropriate': 1277, 'topic': 2583, 'uncomfortable': 2638, 'embarrassed': 832, 'satisfactory': 2190, 'listens': 1472, 'speicalists': 2367, 'proper': 1965, 'testing': 2529, 'specialize': 2359, 'assistance': 204, 'knowlegable': 1400, 'apply': 153, 'situation': 2306, 'note': 1687, 'predispose': 1908, 'computer': 523, 'communicates': 495, 'die': 717, 'mistake': 1608, 'acknowledge': 40, 'unpretentious': 2671, 'reservation': 2119, 'hindmarsh': 1200, 'wrong': 2830, 'grandson': 1104, 'defect': 663, 'round': 2167, 'anybody': 139, 'guess': 1125, 'length': 1439, 'watch': 2759, 'respond': 2128, 'cynthia': 634, 'renee': 2102, 'hesitation': 1194, 'cancer': 391, 'survivor': 2473, 'attribute': 226, 'peace': 1806, 'spotless': 2374, 'organized': 1743, 'arent': 170, 'coulnt': 596, 'stiching': 2399, 'threw': 2560, 'roof': 2163, 'hes': 1191, 'approve': 165, 'root': 2165, 'hearted': 1179, 'wonder': 2808, 'tear': 2504, 'psychiatrist': 1974, 'vow': 2738, 'search': 2222, 'fibromyalgia': 985, 'sound': 2347, 'occasion': 1710, 'darn': 640, 'reside': 2120, 'knowledeable': 1395, 'thirsk': 2546, 'stupid': 2433, 'kangaroo': 1378, 'pouch': 1893, 'overlapped': 1766, 'mirror': 1598, 'naked': 1637, 'sore': 2345, 'swollen': 2484, 'feminine': 977, 'taranow': 2498, 'scuplter': 2220, 'various': 2713, 'consideration': 551, 'fore': 1024, 'demand': 684, 'augumentation': 229, 'enured': 865, 'ample': 115, 'doug': 772, 'imediately': 1257, 'stretch': 2423, 'mark': 1539, 'shrug': 2279, 'laser': 1421, 'spasm': 2352, 'sleep': 2314, 'terrbile': 2524, 'costochondritis': 593, 'resolve': 2121, 'flinch': 1011, 'involuntarily': 1339, 'cool': 586, 'underwhere': 2650, 'dressing': 785, 'oculd': 1714, 'abx': 16, 'strong': 2426, 'blank': 308, 'cover': 610, 'soem': 2333, 'std': 2392, 'insulting': 1316, 'shame': 2261, 'responsible': 2130, 'lab': 1403, 'healthy': 1174, 'heals': 1171, 'suggest': 2447, 'safe': 2180, 'achieve': 37, 'wliposuction': 2804, 'head': 1162, 'definitley': 673, 'set': 2250, 'apart': 143, 'ivonne': 1348, 'reveron': 2143, 'attention': 219, 'reason': 2022, 'transaxillary': 2594, 'endoscopic': 844, 'boyfriend': 333, 'suspect': 2475, 'constantly': 556, 'pushy': 1988, 'frame': 1041, 'armpit': 174, 'tip': 2576, 'arnica': 177, 'significantly': 2289, 'reduce': 2056, 'inflammation': 1288, 'smoking': 2326, 'negatively': 1659, 'affect': 68, 'circulation': 451, 'optimal': 1736, 'properly': 1966, 'alcohol': 91, 'wks': 2803, 'immune': 1263, 'trigger': 2603, 'prevent': 1925, 'guideline': 1127, 'correct': 589, 'abdominal': 3, 'expensive': 919, 'definatly': 666, 'monies': 1621, 'sincerity': 2298, 'boost': 325, 'dm': 757, 'operation': 1732, 'deem': 661, 'buck': 364, 'breat': 339, 'liposuccion': 1466, 'separate': 2241, 'realistic': 2018, 'recommendable': 2045, 'beat': 272, 'feeling': 972, 'bruise': 361, 'whish': 2785, 'bensimon': 291, 'faul': 961, 'obgyn': 1702, 'rarely': 2007, 'community': 498, 'oh': 1718, 'pap': 1783, 'smear': 2324, 'fear': 967, 'disappear': 733, 'pride': 1933, 'midwife': 1583, 'neighbor': 1660, 'block': 314, 'rushed': 2177, 'grev': 1115, 'grevvenstein': 1116, 'fauls': 962, 'male': 1528, 'thankfully': 2534, 'godsend': 1095, 'chrones': 446, 'stage': 2380, 'dementia': 686, 'understandable': 2646, 'answered': 134, 'thouroughly': 2556, 'priority': 1937, 'africa': 75, 'play': 1860, 'rugby': 2173, 'encourage': 840, 'stem': 2395, 'thx': 2567, 'setting': 2251, 'accurately': 36, 'clagary': 454, 'prayer': 1903, 'discover': 739, 'milk': 1587, 'allergy': 99, 'reflux': 2065, 'teated': 2506, 'accordingly': 31, 'recognize': 2041, 'partum': 1792, 'depressionand': 690, 'sympathetically': 2486, 'counsel': 597, 'lay': 1426, 'position': 1882, 'direction': 729, 'incrediable': 1281, 'human': 1234, 'loss': 1500, 'investigate': 1334, 'credential': 618, 'glow': 1092, 'academic': 17, 'allayed': 97, 'nervousness': 1666, 'jitter': 1360, 'enjoyable': 852, 'confirm': 541, 'judge': 1371, 'laugh': 1424, 'coworker': 612, 'swear': 2477, 'reluctant': 2091, 'luna': 1513, 'joke': 1364, 'payment': 1805, 'let': 1443, 'monthly': 1625, 'afford': 72, 'lola': 1486, 'samantha': 2185, 'removal': 2100, 'lip': 1464, 'epiderma': 867, 'online': 1724, 'fernando': 980, 'needless': 1657, 'hassle': 1159, 'varicose': 2711, 'vein': 2717, 'prompt': 1962, 'fernado': 979, 'vericose': 2719, 'arrive': 182, 'examine': 894, 'clearly': 459, 'undergo': 2642, 'patiently': 1802, 'definetly': 670, 'nearly': 1650, 'write': 2828, 'ailment': 86, 'connect': 544, 'grandchild': 1103, 'consistently': 554, 'popular': 1878, 'delicate': 680, 'unsightly': 2675, 'partner': 1791, 'tactful': 2489, 'confidential': 539, 'foot': 1020, 'calf': 382, 'awhile': 244, 'develop': 705, 'common': 493, 'ultrasound': 2630, 'extent': 934, 'probelm': 1944, 'legs': 1436, 'lacombe': 1410, 'accommodate': 25, 'wonderfully': 2810, 'respectfully': 2125, 'waive': 2742, 'obstetric': 1704, 'posted': 1890, 'degree': 677, 'internal': 1326, 'certificate': 420, 'uphold': 2685, 'company': 499, 'vision': 2728, 'hamilton': 1139, 'manor': 1536, 'expand': 914, 'fix': 1003, 'cure': 626, 'timely': 2571, 'fight': 988, 'cough': 594, 'bronchitis': 358, 'unfortunately': 2660, 'establish': 879, 'hesitant': 1192, 'equipment': 870, 'build': 366, 'chart': 431, 'sucker': 2442, 'prescribe': 1917, 'urgent': 2692, 'obstetrics': 1706, 'experienced': 922, 'advance': 63, 'polyclinic': 1875, 'concorde': 530, 'basic': 263, 'drawn': 781, 'collective': 475, 'humble': 1235, 'sock': 2332, 'swiftly': 2482, 'rand': 2003, 'cold': 473, 'diabetes': 708, 'abnormal': 8, 'insulin': 1315, 'constant': 555, 'thirst': 2547, 'dedicate': 657, 'dream': 783, 'polyclinique': 1876, 'medicale': 1559, 'network': 1667, 'unavailable': 2633, 'obstetrician': 1705, 'dealing': 647, 'unfailingly': 2657, 'respectful': 2124, 'welcomeness': 2774, 'respected': 2123, 'private': 1939, 'arrival': 181, 'break': 337, 'bone': 322, 'softball': 2335, 'game': 1067, 'complicate': 517, 'jargon': 1356, 'alike': 94, 'plenty': 1866, 'magazine': 1518, 'toy': 2590, 'tv': 2621, 'entertain': 862, 'chain': 424, 'corporate': 588, 'vibe': 2723, 'fuss': 1063, 'calming': 387, 'upsetting': 2689, 'draw': 780, 'astray': 212, 'sample': 2186, 'nasal': 1639, 'spray': 2376, 'lower': 1506, 'medication': 1561, 'niagara': 1672, 'lake': 1413, 'blessing': 312, 'duplicate': 791, 'mental': 1572, 'pharmacist': 1836, 'conveniently': 579, 'locate': 1483, 'stone': 2406, 'road': 2157, 'eating': 806, 'link': 1463, 'page': 1775, 'contract': 573, 'mono': 1622, 'ail': 85, 'general': 1069, 'backyard': 253, 'vivers': 2733, 'associate': 206, 'receoptionists': 2035, 'direct': 728, 'thumb': 2565, 'particularly': 1790, 'indebted': 1284, 'francios': 1042, 'grateful': 1106, 'attentiveness': 222, 'fht': 983, 'capability': 395, 'appreciated': 156, 'seldom': 2232, 'courteous': 606, 'impeccable': 1264, 'stroke': 2425, 'occur': 1713, 'luckily': 1510, 'food': 1019, 'eat': 805, 'factor': 948, 'application': 152, 'asap': 189, 'complete': 513, 'edge': 808, 'bounce': 330, 'muffin': 1634, 'pa': 1772, 'slim': 2318, 'attractive': 225, 'joy': 1369, 'express': 931, 'breeze': 345, 'communicative': 497, 'rely': 2092, 'window': 2796, 'strap': 2417, 'franklin': 1046, 'whatsoever': 2782, 'trustworthy': 2612, 'overcharge': 1763, 'admittedly': 59, 'nervice': 1664, 'slimming': 2319, 'pick': 1849, 'attract': 224, 'recent': 2032, 'immaculate': 1258, 'unsure': 2676, 'unnatural': 2667, 'upfront': 2684, 'mess': 1575, 'useful': 2698, 'definantly': 664, 'georgina': 1083, 'lakeside': 1414, 'personalize': 1829, 'unwarranted': 2680, 'acquire': 43, 'otc': 1750, 'breathe': 341, 'ad': 47, 'response': 2129, 'assign': 200, 'required': 2116, 'sudden': 2443, 'headache': 1163, 'vitals': 2732, 'submit': 2435, 'interrupt': 1330, 'counseling': 598, 'neurologist': 1668, 'admire': 56, 'holistic': 1211, 'georgiana': 1082, 'understood': 2649, 'hypothesis': 1246, 'educate': 810, 'prescription': 1919, 'pure': 1986, 'class': 456, 'art': 184, 'trouble': 2606, 'bunch': 371, 'stranger': 2416, 'mask': 1544, 'paperwork': 1784, 'relax': 2081, 'recommendation': 2046, 'weather': 2765, 'yearly': 2833, 'navigate': 1646, 'calmly': 388, 'bout': 331, 'highy': 1198, 'hopefully': 1222, 'annual': 131, 'setup': 2252, 'insurance': 1317, 'favorable': 964, 'surpised': 2468, 'friendliness': 1055, 'westcoast': 2779, 'flu': 1014, 'document': 763, 'west': 2778, 'reassuring': 2026, 'surprised': 2470, 'refreshing': 2067, 'attitude': 223, 'speedy': 2366, 'dread': 782, 'nutrition': 1699, 'chest': 437, 'floor': 1012, 'disposition': 750, 'target': 2499, 'recommended': 2047, 'vancouver': 2709, 'primary': 1934, 'centre': 417, 'unfamiliar': 2658, 'usual': 2699, 'vital': 2731, 'jump': 1375, 'examination': 893, 'relieved': 2090, 'endlessly': 843, 'surround': 2471, 'lollipop': 1487, 'anchor': 119, 'areolar': 171, 'suit': 2449, 'pre': 1904, 'force': 1022, 'transformation': 2596, 'silvermans': 2293, 'howard': 1231, 'courage': 604, 'proceed': 1948, 'ordeal': 1738, 'privacy': 1938, 'carry': 407, 'card': 399, 'girlfriend': 1089, 'array': 180, 'augment': 227, 'significant': 2288, 'weight': 2771, 'lifeless': 1449, 'overwhelming': 1770, 'exceptionally': 902, 'seize': 2231, 'session': 2249, 'eased': 800, 'maid': 1520, 'enhancement': 850, 'outset': 1757, 'informed': 1292, 'thoroughly': 2552, 'request': 2114, 'greets': 1114, 'neat': 1651, 'organize': 1742, 'converse': 581, 'inform': 1289, 'communication': 496, 'atmosphere': 214, 'share': 2263, 'transition': 2597, 'enter': 861, 'elective': 824, 'snap': 2329, 'entail': 860, 'sugarcoat': 2445, 'minimize': 1593, 'ottawa': 1751, 'reading': 2015, 'carefully': 403, 'qualification': 1989, 'account': 32, 'ankle': 127, 'cast': 409, 'offer': 1716, 'candy': 393, 'procure': 1951, 'reasonable': 2023, 'billing': 298, 'price': 1931, 'johann': 1362, 'warmly': 2750, 'confusion': 542, 'misdirection': 1603, 'forthright': 1032, 'evening': 882, 'brief': 348, 'premise': 1913, 'convenient': 578, 'weekend': 2769, 'holiday': 1210, 'digital': 725, 'openly': 1729, 'railroad': 2001, 'assume': 207, 'saver': 2195, 'neighborhood': 1661, 'internet': 1327, 'spot': 2373, 'date': 641, 'engage': 847, 'period': 1823, 'takeover': 2490, 'educational': 812, 'impressive': 1274, 'idiot': 1250, 'acceptable': 19, 'john': 1363, 'breathing': 342, 'previously': 1930, 'hassell': 1158, 'flawlessly': 1009, 'ann': 128, 'dawn': 644, 'mary': 1542, 'looper': 1496, 'painfully': 1778, 'aware': 239, 'tease': 2505, 'incessantly': 1278, 'school': 2208, 'harrassment': 1153, 'consequently': 546, 'timid': 2573, 'insecure': 1303, 'ashamed': 190, 'restore': 2134, 'dignity': 726, 'literally': 1475, 'college': 477, 'friendship': 1057, 'fun': 1061, 'introduce': 1333, 'interact': 1323, 'proactively': 1942, 'afterward': 77, 'forth': 1031, 'asset': 199, 'sickness': 2285, 'star': 2386, 'befor': 281, 'amazement': 108, 'lobby': 1481, 'versed': 2722, 'pass': 1794, 'sinus': 2302, 'knowledgeably': 1399, 'relatively': 2080, 'comforted': 486, 'keller': 1382, 'baywood': 265, 'certified': 422, 'advanced': 64, 'botox': 329, 'injector': 1297, 'certification': 421, 'relaxing': 2083, 'efficient': 815, 'beneficial': 288, 'supervision': 2458, 'medically': 1560, 'trained': 2592, 'deep': 662, 'warn': 2752, 'vary': 2714, 'beautifully': 274, 'wrinkle': 2826, 'sag': 2183, 'conscious': 545, 'filler': 991, 'enlighten': 854, 'asian': 191, 'underarms': 2641, 'growth': 1123, 'embarrass': 831, 'dark': 639, 'sham': 2260, 'tank': 2496, 'thailand': 2531, 'flawless': 1008, 'underarm': 2640, 'wedding': 2767, 'examiner': 895, 'american': 114, 'competitive': 508, 'joseph': 1366, 'longnecker': 1492, 'checkup': 434, 'expenential': 917, 'experiances': 920, 'law': 1425, 'convo': 585, 'trial': 2602, 'pharmacy': 1837, 'speaking': 2355, 'quarterback': 1992, 'admittance': 58, 'oversaw': 1767, 'additionally': 51, 'affiliate': 69, 'jude': 1370, 'generic': 1072, 'mile': 1586, 'preventative': 1926, 'error': 876, 'inviting': 1337, 'alleviate': 100, 'endure': 845, 'dotor': 770, 'absolutley': 14, 'adore': 61, 'favorite': 965, 'unparalleled': 2669, 'relaxed': 2082, 'sickest': 2283, 'refresh': 2066, 'manage': 1530, 'nost': 1685, 'doctervisits': 760, 'burden': 372, 'longneckers': 1493, 'average': 236, 'fullerton': 1059, 'affiliated': 70, 'st': 2378, 'instantly': 1309, 'contestant': 566, 'loser': 1499, 'colleague': 474, 'diverse': 756, 'population': 1880, 'financing': 994, 'punctial': 1983, 'compotent': 521, 'reception': 2036, 'karima': 1379, 'ali': 92, 'additional': 50, 'verify': 2720, 'coherent': 472, 'comprehensive': 522, 'supercede': 2456, 'dismayed': 747, 'authentic': 231, 'geniune': 1074, 'needle': 1656, 'innovative': 1301, 'technology': 2508, 'par': 1785, 'complement': 512, 'blouse': 318, 'reflect': 2064, 'contraindicate': 576, 'cat': 410, 'scan': 2199, 'appreciates': 157, 'loyalty': 1508, 'plethora': 1867, 'possibility': 1885, 'personalized': 1830, 'whine': 2784, 'prove': 1970, 'handful': 1141, 'accommodating': 27, 'technique': 2507, 'displease': 749, 'trait': 2593, 'exhibit': 912, 'melanie': 1567, 'frantic': 1047, 'appreciative': 159, 'praise': 1901, 'mausner': 1552, 'aunt': 230, 'stun': 2432, 'medium': 1564, 'lend': 1437, 'vent': 2718, 'restalyn': 2133, 'injection': 1296, 'admit': 57, 'comforting': 487, 'affordable': 73, 'knew': 1391, 'generation': 1071, 'dear': 648, 'lease': 1430, 'snoring': 2330, 'wake': 2743, 'shelf': 2266, 'lifetime': 1452, 'gladly': 1091, 'instills': 1311, 'definently': 668, 'strive': 2424, 'beauty': 275, 'fountain': 1037, 'youth': 2838, 'sincerly': 2299, 'martin': 1541, 'jugenburg': 1373, 'jugenberg': 1372, 'reconstructive': 2050, 'sparkly': 2351, 'discreet': 741, 'real': 2017, 'pas': 1793, 'explaning': 928, 'anymore': 140, 'exercise': 911, 'figure': 989, 'careful': 402, 'ladies': 1411, 'mission': 1607, 'beer': 280, 'gut': 1130, 'institute': 1312, 'pair': 1780, 'assure': 208, 'range': 2004, 'chat': 432, 'recover': 2051, 'abo': 9, 'flabby': 1004, 'sleeve': 2316, 'shirt': 2269, 'severely': 2255, 'elahi': 820, 'proceedure': 1949, 'suprises': 2462, 'cloth': 467, 'wore': 2814, 'cindy': 449, 'monsato': 1623, 'mohammed': 1614, 'pleasure': 1865, 'personally': 1831, 'escort': 877, 'lit': 1474, 'height': 1184, 'slight': 2317, 'fever': 982, 'vomit': 2737, 'aversion': 237, 'swab': 2476, 'bacterial': 254, 'total': 2585, 'series': 2244, 'antibiotic': 135, 'med': 1557, 'instruction': 1314, 'label': 1405, 'fiddle': 986, 'correctly': 590, 'happier': 1146, 'pror': 1968, 'persuade': 1833, 'coerce': 471, 'elhai': 826, 'cleft': 460, 'bully': 369, 'apparently': 148, 'ugly': 2627, 'pummel': 1982, 'bloody': 317, 'pulp': 1981, 'contort': 570, 'fracture': 1040, 'cheek': 435, 'misshaped': 1606, 'whale': 2780, 'mortify': 1629, 'penelope': 1813, 'stalker': 2382, 'rash': 2008, 'elbow': 822, 'allergic': 98, 'ointment': 1719, 'broadway': 356, 'physical': 1842, 'finish': 996, 'specifically': 2362, 'obvious': 1708, 'identify': 1249, 'whisk': 2786, 'ther': 2537, 'reliable': 2087, 'flexible': 1010, 'cadillac': 381, 'effective': 814, 'comforatable': 482, 'walker': 2745, 'physicians': 1846, 'evolution': 888, 'effortless': 818, 'activity': 45, 'noticeably': 1691, 'aspect': 196, 'importance': 1266, 'booster': 326, 'shot': 2276, 'prick': 1932, 'conclusion': 529, 'friday': 1053, 'monday': 1619, 'secondly': 2225, 'pierre': 1851, 'brassard': 336, 'anyy': 142, 'resume': 2136, 'accredit': 33, 'affiliation': 71, 'achievement': 38, 'professor': 1956, 'current': 627, 'craft': 613, 'building': 367, 'rich': 2148, 'relentlessly': 2085, 'bump': 370, 'hook': 1219, 'amy': 116, 'insecurity': 1304, 'potential': 1892, 'ultimately': 2628, 'pic': 1848, 'threatening': 2559, 'schedul': 2204, 'prep': 1914, 'astonish': 210, 'rafik': 2000, 'bechbache': 276, 'referal': 2060, 'nicely': 1674, 'chilly': 439, 'aske': 194, 'description': 695, 'fishing': 1000, 'goal': 1093, 'verse': 2721, 'definition': 672, 'keen': 1381, 'adept': 53, 'relate': 2076, 'speaker': 2354, 'french': 1050, 'analyze': 118, 'superior': 2457, 'markham': 1540, 'stouffville': 2412, 'accurate': 35, 'unreasonable': 2673, 'cyst': 635, 'routinely': 2169, 'typical': 2625, 'respiratory': 2126, 'reccomend': 2029, 'davis': 643, 'georgia': 1081, 'florida': 1013, 'lengthy': 1440, 'mr': 1633, 'modern': 1613, 'lack': 1407, 'impression': 1273, 'ordinary': 1740, 'postcard': 1889, 'mail': 1521, 'scheduled': 2206, 'wind': 2795, 'undivided': 2652, 'deviate': 706, 'septum': 2243, 'concentrate': 525, 'paycheck': 1804, 'teenager': 2513, 'aide': 84, 'aftercare': 76, 'trusting': 2611, 'involve': 1340, 'prime': 1935, 'example': 896, 'neutral': 1669, 'hero': 1190, 'depress': 689, 'leblanc': 1432, 'thursday': 2566, 'publication': 1978, 'seemingly': 2230, 'dominate': 766, 'doubt': 771, 'feature': 968, 'brag': 334, 'robert': 2158, 'backstein': 252, 'article': 186, 'pro': 1941, 'preferred': 1910, 'prepare': 1915, 'status': 2390, 'ethic': 881, 'admirable': 55, 'ensure': 858, 'psychological': 1975, 'standard': 2385, 'steven': 2397, 'diligently': 727, 'fellowship': 974, 'royal': 2170, 'undoubtedly': 2653, 'key': 1384, 'quote': 1999, 'reputable': 2112, 'weigh': 2770, 'labor': 1406, 'intensive': 1321, 'walking': 2746, 'confidentiality': 540, 'arrange': 179, 'car': 398, 'loyal': 1507, 'benoit': 290, 'initially': 1294, 'superb': 2455, 'anticipate': 136, 'country': 602, 'wolf': 2806, 'exemplary': 910, 'deviated': 707, 'gesture': 1084, 'renew': 2103, 'wizard': 2802, 'scheduling': 2207, 'tenure': 2522, 'followup': 1018, 'speed': 2365, 'expertly': 925, 'hadthe': 1135, 'working': 2817, 'misconception': 1600, 'respite': 2127, 'lessen': 1441, 'contemplate': 564, 'water': 2760, 'asymmetrical': 213, 'unattractive': 2632, 'puckering': 1979, 'surroundings': 2472, 'soothing': 2344, 'waterfall': 2761, 'gratitude': 1108, 'assiniboine': 201, 'hello': 1186, 'russell': 2178, 'albak': 88, 'literature': 1476, 'wash': 2754, 'shake': 2259, 'attentively': 221, 'laptop': 1419, 'courtesty': 608, 'joshua': 1367, 'trip': 2604, 'stair': 2381, 'basement': 262, 'fortunately': 1034, 'concussion': 532, 'sprain': 2375, 'sling': 2320, 'lollypop': 1488, 'continually': 567, 'kidney': 1386, 'firstly': 999, 'toe': 2578, 'happily': 1147, 'physican': 1844, 'teen': 2510, 'convinent': 584, 'convient': 582, 'diagnoised': 709, 'nutritionist': 1700, 'manageable': 1531, 'expalin': 913, 'onsite': 1725, 'instruct': 1313, 'butterfly': 377, 'ne': 1648, 'edle': 809, 'roll': 2162, 'winnipeg': 2798, 'manitoba': 1533, 'completion': 515, 'assinibone': 202, 'alot': 104, 'excess': 903, 'fat': 960, 'accumulation': 34, 'awkward': 245, 'sheina': 2265, 'macadam': 1517, 'confide': 536, 'exact': 889, 'earlier': 796, 'unwanted': 2679, 'hanging': 1144, 'massive': 1545, 'thinner': 2545, 'main': 1522, 'loose': 1497, 'solve': 2338, 'beach': 267, 'throw': 2564, 'breed': 344, 'gold': 1096, 'elite': 828, 'fitting': 1002, 'intellect': 1319, 'lifestyle': 1451, 'eadtin': 793, 'habit': 1134, 'recieve': 2039, 'prognosis': 1957, 'pertain': 1834, 'shaina': 2258, 'excursion': 907, 'complex': 516, 'outline': 1756, 'reconstruction': 2049, 'annoy': 130, 'cruel': 624, 'crooked': 621, 'graduate': 1101, 'plunge': 1868, 'valnicek': 2704, 'mastectomy': 1546, 'stan': 2383, 'solid': 2336, 'recoverd': 2052, 'gynecomastia': 1133, 'efficiently': 816, 'sleeping': 2315, 'apnea': 144, 'british': 354, 'columbia': 480, 'rehab': 2075, 'recommened': 2048, 'okanagan': 1721, 'difficulty': 722, 'view': 2725, 'fake': 952, 'inside': 1305, 'agitated': 79, 'crow': 622, 'astound': 211, 'grocery': 1119, 'store': 2410, 'dissapointed': 751, 'swelling': 2481, 'hitch': 1205, 'hunter': 1241, 'susan': 2474, 'lenghts': 1438, 'mild': 1585, 'asthma': 209, 'virus': 2726, 'peditircians': 1810, 'basis': 264, 'script': 2215, 'scritp': 2216, 'hopeless': 1223, 'quiet': 1996, 'irritable': 1343, 'interrogate': 1329, 'crowd': 623, 'noisy': 1678, 'budget': 365, 'wallet': 2747, 'valuable': 2705, 'player': 1861, 'sector': 2227, 'regularly': 2074, 'december': 652, 'pnuemonia': 1871, 'reoccurring': 2105, 'absolutelty': 12, 'ted': 2509, 'jablonski': 1351, 'employ': 838, 'ambition': 112, 'aid': 83, 'sexual': 2256, 'scene': 2203, 'clinical': 463, 'quit': 1997, 'avidly': 238, 'participate': 1788, 'cycling': 633, 'marathon': 1537, 'phrase': 1841, 'bright': 349, 'vast': 2716, 'specified': 2363, 'acceptance': 20, 'appreciation': 158, 'presence': 1920, 'daily': 636, 'wellness': 2777, 'conducive': 535, 'giant': 1085, 'hurriedly': 1242, 'jablonsky': 1352, 'history': 1204, 'struggle': 2429, 'energy': 846, 'crisis': 620, 'therapist': 2538, 'psychologist': 1976, 'source': 2348, 'readily': 2014, 'program': 1958, 'outlet': 1755, 'assist': 203, 'ansewrs': 132, 'tinus': 2574, 'wasserfall': 2756, 'appease': 151, 'unrushed': 2674, 'charm': 430, 'groom': 1120, 'tension': 2521, 'vaccine': 2702, 'mmr': 1611, 'spectrum': 2364, 'shocked': 2271, 'stumble': 2431, 'url': 2695, 'email': 829, 'unexpectedly': 2656, 'wasserful': 2757, 'unbiased': 2636, 'analysis': 117, 'jiffy': 1359, 'consistent': 553, 'lump': 1512, 'decrease': 656, 'colorful': 479, 'hospitality': 1228, 'diagnostician': 713, 'urgently': 2693, 'van': 2708, 'jaarsveldt': 1350, 'claim': 455, 'arrogant': 183, 'condescending': 533, 'bystander': 379, 'diappointed': 715, 'carpedium': 406, 'blanc': 306, 'television': 2515, 'jackson': 1354, 'uglier': 2626, 'blancs': 307, 'beaky': 269, 'sucess': 2441, 'river': 2155, 'gentleman': 1076, 'desmond': 699, 'unable': 2631, 'tom': 2580, 'jones': 1365, 'jaaraveldt': 1349, 'lakewood': 1416, 'minue': 1595, 'content': 565, 'vanjaarsveldt': 2710, 'valued': 2707, 'elderly': 823, 'extend': 932, 'bike': 297, 'coverage': 611, 'consummate': 562, 'weird': 2772, 'consulting': 561, 'following': 1017, 'ontime': 1727, 'recieved': 2040, 'variety': 2712, 'healley': 1169, 'comfortably': 485, 'interpersonal': 1328, 'depth': 691, 'particular': 1789, 'successfully': 2440, 'heally': 1170, 'unpack': 2668, 'bos': 327, 'woo': 2812, 'sympathetic': 2485, 'gracious': 1100, 'william': 2792, 'passion': 1795, 'consist': 552, 'material': 1550, 'headleys': 1165, 'ab': 0, 'fastly': 959, 'organization': 1741, 'headley': 1164, 'equip': 869, 'broad': 355, 'ring': 2153, 'metal': 1577, 'brillient': 352, 'prevention': 1927, 'headly': 1166, 'path': 1799, 'behavioral': 284, 'consultant': 559, 'uncontrolled': 2639, 'panic': 1782, 'attack': 215, 'bipolar': 300, 'disorder': 748, 'urge': 2691, 'conservative': 547, 'writing': 2829, 'integrity': 1318, 'approachable': 162, 'beak': 268, 'misgiving': 1604, 'brent': 347, 'diagnosing': 711, 'accessible': 22, 'belonging': 287, 'dermapeel': 693, 'enlightening': 855, 'concise': 528, 'prepared': 1916, 'cinch': 448, 'obtain': 1707, 'portion': 1881, 'expense': 918, 'release': 2084, 'clothes': 468, 'unpleasant': 2670, 'francis': 1043, 'xavier': 2831, 'undergraduate': 2644, 'dalhousie': 637, 'halifax': 1138, 'nova': 1692, 'scotia': 2212, 'honor': 1217, 'silver': 2291, 'stellar': 2394, 'performance': 1822, 'license': 1446, 'ensures': 859, 'commend': 488, 'dermal': 692, 'installment': 1308, 'accomodating': 28, 'approximately': 166, 'likeable': 1457, 'language': 1418, 'acid': 39, 'tightly': 2569, 'injured': 1298, 'ppo': 1896, 'hisr': 1203, 'wrangle': 2825, 'unhappy': 2661, 'texture': 2530, 'uneven': 2654, 'pigmentation': 1852, 'sun': 2452, 'exposure': 929, 'resurface': 2137, 'realistically': 2019, 'resurfacing': 2138, 'painful': 1777, 'numbing': 1695, 'homey': 1213, 'adolescent': 60, 'season': 2223, 'temperature': 2517, 'acne': 41, 'freedom': 1049, 'excruciating': 906, 'shopping': 2272, 'clothing': 469, 'conceal': 524, 'convince': 583, 'alright': 105, 'ambiance': 111, 'tender': 2520, 'precision': 1907, 'sickkids': 2284, 'christopher': 445, 'reassurance': 2024, 'accomodations': 29, 'pediatritian': 1809, 'eliminate': 827, 'wasnt': 2755, 'shin': 2268, 'chris': 444, 'rave': 2012, 'badly': 256, 'wild': 2791, 'blacken': 304, 'tumor': 2619, 'execllent': 909, 'andre': 120, 'encouragement': 841, 'value': 2706, 'outdo': 1753, 'foward': 1038, 'palate': 1781, 'foundation': 1036, 'oversee': 1768, 'lakeview': 1415, 'english': 848, 'forehead': 1025, 'easier': 801, 'motivation': 1632, 'contouring': 572, 'rough': 2166, 'migraine': 1584, 'times': 2572, 'debilitate': 650, 'horrendous': 1224, 'gossip': 1098, 'dollar': 765, 'dozen': 776, 'ultrashape': 2629, 'brow': 360, 'guarantee': 1124, 'power': 1895, 'redeem': 2055, 'automobile': 233, 'signficant': 2287, 'left': 1434, 'disfigure': 745, 'brusing': 363, 'rebuild': 2028, 'graft': 1102, 'savior': 2196, 'considerable': 549, 'nip': 1677, 'competition': 507, 'undestanding': 2651, 'reproach': 2111, 'contour': 571, 'gallery': 1066, 'orthopedist': 1748, 'recurrent': 2054, 'numbness': 1696, 'ortopedic': 1749, 'chiroprctic': 441, 'concur': 531, 'uneventful': 2655, 'dissolvable': 753, 'hide': 1195, 'wit': 2801, 'douglas': 773, 'wholeheartedly': 2788, 'tarnows': 2500, 'compel': 504, 'specialization': 2358, 'victim': 2724, 'reputation': 2113, 'ny': 1701, 'definetely': 669, 'taranov': 2497, 'zero': 2841, 'relevant': 2086, 'disguise': 746, 'tiny': 2575, 'closely': 465, 'forbid': 1021, 'hire': 1202, 'eric': 873, 'usa': 2696, 'dissatisfy': 752, 'accomplished': 30, 'montreal': 1626, 'department': 688, 'menard': 1571, 'feminization': 978, 'pretty': 1924, 'exaggerate': 891, 'proccess': 1946, 'pacient': 1773, 'doctro': 762, 'selfdemanding': 2235, 'excellence': 898, 'proof': 1964, 'urging': 2694, 'subject': 2434, 'overdone': 1765, 'subtle': 2437, 'peel': 1811, 'skeptic': 2308, 'wrist': 2827, 'perscribed': 1824, 'curtious': 628, 'lackluster': 1409, 'bite': 303, 'bullet': 368, 'acquaint': 42, 'beverly': 295, 'hill': 1199, 'nationwide': 1641, 'abc': 1, 'nbc': 1647, 'specializes': 2360, 'prefer': 1909, 'defy': 676, 'gravity': 1109, 'injectabe': 1295, 'juviderm': 1377, 'erase': 872, 'elasticity': 821, 'difficuly': 723, 'alignment': 93, 'bandage': 258, 'shy': 2280, 'courtesous': 607, 'overburden': 1762, 'hectic': 1183, 'slow': 2321, 'harry': 1154, 'updated': 2683, 'peaceful': 1807, 'decorate': 655, 'stick': 2400, 'ernst': 875, 'lively': 1480, 'talkative': 2494, 'relief': 2088, 'sinking': 2301, 'delayed': 679, 'strange': 2415, 'untill': 2678, 'circle': 450, 'twin': 2623, 'visible': 2727, 'heavy': 1182, 'stocking': 2404, 'summertime': 2451, 'summer': 2450}\n",
      "  (0, 2815)\t0.13543330697009368\n",
      "  (0, 2807)\t0.11146103523936944\n",
      "  (0, 2465)\t0.1138172679487683\n",
      "  (0, 2464)\t0.2279112875344482\n",
      "  (0, 2368)\t0.10869953987832547\n",
      "  (0, 2303)\t0.15452748087458007\n",
      "  (0, 2191)\t0.1645943149636485\n",
      "  (0, 2150)\t0.5094292908114506\n",
      "  (0, 2140)\t0.12010874778773163\n",
      "  (0, 2118)\t0.1246354032912572\n",
      "  (0, 2059)\t0.09425166869594523\n",
      "  (0, 2044)\t0.04976610152002836\n",
      "  (0, 2031)\t0.10091209148231307\n",
      "  (0, 1967)\t0.1645943149636485\n",
      "  (0, 1954)\t0.06510077653421661\n",
      "  (0, 1947)\t0.06673324304197746\n",
      "  (0, 1838)\t0.14184476983468142\n",
      "  (0, 1821)\t0.09575684878995164\n",
      "  (0, 1801)\t0.10714611658222936\n",
      "  (0, 1752)\t0.11812145802573729\n",
      "  (0, 1630)\t0.13731811433115584\n",
      "  (0, 1570)\t0.1645943149636485\n",
      "  (0, 1525)\t0.09488809783755242\n",
      "  (0, 1469)\t0.13731811433115584\n",
      "  (0, 1229)\t0.09499285411753948\n",
      "  :\t:\n",
      "  (370, 971)\t0.10284154871217625\n",
      "  (371, 2768)\t0.1440902300055902\n",
      "  (371, 2645)\t0.15973322266850615\n",
      "  (371, 2463)\t0.13143257497609165\n",
      "  (371, 2379)\t0.09435098856853172\n",
      "  (371, 2205)\t0.15973322266850615\n",
      "  (371, 2159)\t0.5698678430759817\n",
      "  (371, 2135)\t0.1147195503799105\n",
      "  (371, 2044)\t0.08368313437141388\n",
      "  (371, 2031)\t0.16968659093813626\n",
      "  (371, 1950)\t0.1584868980150783\n",
      "  (371, 1864)\t0.15384336395663334\n",
      "  (371, 1717)\t0.10346925287441965\n",
      "  (371, 1525)\t0.15955707196377636\n",
      "  (371, 1197)\t0.11692899583162132\n",
      "  (371, 1188)\t0.2615903534224909\n",
      "  (371, 1110)\t0.09793559230523063\n",
      "  (371, 943)\t0.16512765422453596\n",
      "  (371, 921)\t0.11878480248312769\n",
      "  (371, 864)\t0.16968659093813626\n",
      "  (371, 603)\t0.19553071981093104\n",
      "  (371, 329)\t0.36556281982778815\n",
      "  (371, 154)\t0.11692899583162132\n",
      "  (371, 105)\t0.2767700855637761\n",
      "  (371, 7)\t0.139172932504565\n"
     ]
    }
   ],
   "source": [
    "\n",
    "df['text'] = [entry.lower() for entry in df['text']]\n",
    "df['text']= [word_tokenize(entry) for entry in df['text']]\n",
    "tag_map = defaultdict(lambda : wn.NOUN)\n",
    "tag_map['J'] = wn.ADJ\n",
    "tag_map['V'] = wn.VERB\n",
    "tag_map['R'] = wn.ADV\n",
    "df.reset_index(inplace = True, drop = True) \n",
    "for index,entry in enumerate(df['text']):\n",
    "    # Declaring Empty List to store the words that follow the rules for this step\n",
    "    Final_words = []\n",
    "    # Initializing WordNetLemmatizer()\n",
    "    word_Lemmatized = WordNetLemmatizer()\n",
    "    # pos_tag function below will provide the 'tag' i.e if the word is Noun(N) or Verb(V) or something else.\n",
    "    for word, tag in pos_tag(entry):\n",
    "        # Below condition is to check for Stop words and consider only alphabets\n",
    "        if word not in stopwords.words('english') and word.isalpha():\n",
    "            word_Final = word_Lemmatized.lemmatize(word,tag_map[tag[0]])\n",
    "            Final_words.append(word_Final)\n",
    "    # The final processed set of words for each iteration will be stored in 'text_final'\n",
    "    df.loc[index,'text_final'] = str(Final_words)\n",
    "X_train, X_test, y_train, y_test = train_test_split(df['text_final'], df['label'], test_size=0.33)\n",
    "tfidf_vectorizer = TfidfVectorizer(stop_words='english', max_df=0.7, max_features=5000) # This removes words which appear in more than 70% of the articles\n",
    "# Fit and transform the training data \n",
    "tfidf_vectorizer.fit(df['text_final'])\n",
    "tfidf_train = tfidf_vectorizer.transform(X_train)\n",
    "# Transform the test set # Initialize the `tfidf_vectorizer`\n",
    "tfidf_test = tfidf_vectorizer.transform(X_test)\n",
    "count_vectorizer = CountVectorizer(stop_words='english')  # Initialize the `count_vectorizer`\n",
    "# Fit and transform the training data \n",
    "count_train = count_vectorizer.fit_transform(X_train) # Learn the vocabulary dictionary and return term-document matrix.\n",
    "# Transform the test set \n",
    "count_test = count_vectorizer.transform(X_test)\n",
    "print(tfidf_vectorizer.vocabulary_)\n",
    "print(tfidf_train)\n",
    "count_df = pd.DataFrame(count_train.A, columns=count_vectorizer.get_feature_names())\n",
    "tfidf_df = pd.DataFrame(tfidf_train.A, columns=tfidf_vectorizer.get_feature_names())\n",
    "difference = set(count_df.columns) - set(tfidf_df.columns)"
   ]
  },
  {
   "cell_type": "markdown",
   "metadata": {},
   "source": [
    "## Classifiers\n",
    "   ### SVM"
   ]
  },
  {
   "cell_type": "code",
   "execution_count": 4,
   "metadata": {},
   "outputs": [
    {
     "name": "stdout",
     "output_type": "stream",
     "text": [
      "accuracy:   0.837\n",
      "precision:   0.839\n",
      "Sensitivity :  0.9224137931034483\n",
      "Specificity :  0.6911764705882353\n",
      "F1_Score:   0.758\n",
      "The confusion matrix is   [[107   9]\n",
      " [ 21  47]]\n"
     ]
    },
    {
     "data": {
      "image/png": "[encoded data removed]",
      "text/plain": [
       "<Figure size 432x288 with 2 Axes>"
      ]
     },
     "metadata": {
      "needs_background": "light"
     },
     "output_type": "display_data"
    }
   ],
   "source": [
    "import seaborn as sn\n",
    "# Classifier - Algorithm - SVM\n",
    "# fit the training dataset on the classifier\n",
    "clf = svm.SVC(C=1.0, kernel='linear', degree=3, gamma='auto')\n",
    "clf.fit(tfidf_train, y_train)       # Fit SVM classifier according to X, y\n",
    "pred = clf.predict(tfidf_test)      # Perform classification on an array of test vectors X.\n",
    "score = metrics.accuracy_score(y_test, pred)\n",
    "print(\"accuracy:   %0.3f\" % score)\n",
    "precision = metrics.precision_score(y_test, pred)\n",
    "print(\"precision:   %0.3f\" % precision)\n",
    "cm = metrics.confusion_matrix(y_test, pred)\n",
    "sensitivity = cm[0,0]/(cm[0,0]+cm[0,1])\n",
    "print('Sensitivity : ', sensitivity )\n",
    "specificity = cm[1,1]/(cm[1,0]+cm[1,1])\n",
    "print('Specificity : ', specificity )\n",
    "f1_score = metrics.f1_score(y_test, pred)\n",
    "print(\"F1_Score:   %0.3f\" % f1_score)\n",
    "print(\"The confusion matrix is  \",cm)\n",
    "sn.heatmap(cm, annot=True, fmt=\"d\") \n",
    "\n",
    "plt.show()"
   ]
  },
  {
   "cell_type": "markdown",
   "metadata": {},
   "source": [
    "### RandomForest"
   ]
  },
  {
   "cell_type": "code",
   "execution_count": 10,
   "metadata": {},
   "outputs": [
    {
     "name": "stdout",
     "output_type": "stream",
     "text": [
      "accuracy:   0.728\n",
      "precision:   0.846\n",
      "Sensitivity :  0.9655172413793104\n",
      "Specificity :  0.3235294117647059\n",
      "F1_Score:   0.468\n",
      "The confusion matrix is   [[112   4]\n",
      " [ 46  22]]\n"
     ]
    },
    {
     "data": {
      "image/png": "[encoded data removed]",
      "text/plain": [
       "<Figure size 432x288 with 2 Axes>"
      ]
     },
     "metadata": {
      "needs_background": "light"
     },
     "output_type": "display_data"
    }
   ],
   "source": [
    "#RandomForest\n",
    "clf=RandomForestClassifier(n_estimators=500)\n",
    "clf.fit(tfidf_train, y_train)       # Fit  Random Forest classifier according to X, y\n",
    "pred = clf.predict(tfidf_test)      # Perform classification on an array of test vectors X.\n",
    "score = metrics.accuracy_score(y_test, pred)\n",
    "print(\"accuracy:   %0.3f\" % score)\n",
    "precision = metrics.precision_score(y_test, pred)\n",
    "print(\"precision:   %0.3f\" % precision)\n",
    "cm = metrics.confusion_matrix(y_test, pred)\n",
    "sensitivity = cm[0,0]/(cm[0,0]+cm[0,1])\n",
    "print('Sensitivity : ', sensitivity )\n",
    "specificity = cm[1,1]/(cm[1,0]+cm[1,1])\n",
    "print('Specificity : ', specificity )\n",
    "f1_score = metrics.f1_score(y_test, pred)\n",
    "print(\"F1_Score:   %0.3f\" % f1_score)\n",
    "print(\"The confusion matrix is  \",cm)\n",
    "sn.heatmap(cm, annot=True, fmt=\"d\") \n",
    "\n",
    "plt.show()"
   ]
  },
  {
   "cell_type": "markdown",
   "metadata": {},
   "source": [
    "### Naive Bayes with Tf and idf"
   ]
  },
  {
   "cell_type": "code",
   "execution_count": 9,
   "metadata": {},
   "outputs": [
    {
     "name": "stdout",
     "output_type": "stream",
     "text": [
      "accuracy:   0.663\n",
      "precision:   1.000\n",
      "Sensitivity :  1.0\n",
      "Specificity :  0.08823529411764706\n",
      "F1_Score:   0.162\n",
      "The confusion matrix is   [[116   0]\n",
      " [ 62   6]]\n"
     ]
    },
    {
     "data": {
      "image/png": "[encoded data removed]",
      "text/plain": [
       "<Figure size 432x288 with 2 Axes>"
      ]
     },
     "metadata": {
      "needs_background": "light"
     },
     "output_type": "display_data"
    }
   ],
   "source": [
    "#Naive Bayes with Tf and idf\n",
    "clf = MultinomialNB() \n",
    "clf.fit(tfidf_train, y_train)       # Fit Naive Bayes classifier according to X, y\n",
    "pred = clf.predict(tfidf_test)      # Perform classification on an array of test vectors X.\n",
    "score = metrics.accuracy_score(y_test, pred)\n",
    "print(\"accuracy:   %0.3f\" % score)\n",
    "precision = metrics.precision_score(y_test, pred)\n",
    "print(\"precision:   %0.3f\" % precision)\n",
    "cm = metrics.confusion_matrix(y_test, pred)\n",
    "sensitivity = cm[0,0]/(cm[0,0]+cm[0,1])\n",
    "print('Sensitivity : ', sensitivity )\n",
    "specificity = cm[1,1]/(cm[1,0]+cm[1,1])\n",
    "print('Specificity : ', specificity )\n",
    "f1_score = metrics.f1_score(y_test, pred)\n",
    "print(\"F1_Score:   %0.3f\" % f1_score)\n",
    "print(\"The confusion matrix is  \",cm)\n",
    "sn.heatmap(cm, annot=True, fmt=\"d\") \n",
    "\n",
    "plt.show()"
   ]
  },
  {
   "cell_type": "markdown",
   "metadata": {},
   "source": [
    "### Naive Bayes with count vectorizer"
   ]
  },
  {
   "cell_type": "code",
   "execution_count": 7,
   "metadata": {},
   "outputs": [
    {
     "name": "stdout",
     "output_type": "stream",
     "text": [
      "accuracy:   0.832\n",
      "precision:   0.878\n",
      "Sensitivity :  0.9482758620689655\n",
      "Specificity :  0.6323529411764706\n",
      "F1_Score:   0.735\n",
      "The confusion matrix is   [[110   6]\n",
      " [ 25  43]]\n"
     ]
    },
    {
     "data": {
      "image/png": "[encoded data removed]",
      "text/plain": [
       "<Figure size 432x288 with 2 Axes>"
      ]
     },
     "metadata": {
      "needs_background": "light"
     },
     "output_type": "display_data"
    }
   ],
   "source": [
    "#Naive Bayes with count vectorizer\n",
    "clf.fit(count_train, y_train)\n",
    "pred = clf.predict(count_test)\n",
    "score = metrics.accuracy_score(y_test, pred)\n",
    "print(\"accuracy:   %0.3f\" % score)\n",
    "precision = metrics.precision_score(y_test, pred)\n",
    "print(\"precision:   %0.3f\" % precision)\n",
    "cm = metrics.confusion_matrix(y_test, pred)\n",
    "sensitivity = cm[0,0]/(cm[0,0]+cm[0,1])\n",
    "print('Sensitivity : ', sensitivity )\n",
    "specificity = cm[1,1]/(cm[1,0]+cm[1,1])\n",
    "print('Specificity : ', specificity )\n",
    "f1_score = metrics.f1_score(y_test, pred)\n",
    "print(\"F1_Score:   %0.3f\" % f1_score)\n",
    "print(\"The confusion matrix is  \",cm)\n",
    "\n",
    "sn.heatmap(cm, annot=True, fmt=\"d\") \n",
    "plt.show()"
   ]
  },
  {
   "cell_type": "markdown",
   "metadata": {},
   "source": [
    "### Ridge Classifier"
   ]
  },
  {
   "cell_type": "code",
   "execution_count": 8,
   "metadata": {},
   "outputs": [
    {
     "name": "stdout",
     "output_type": "stream",
     "text": [
      "accuracy:   0.837\n",
      "precision:   0.880\n",
      "Sensitivity :  0.9482758620689655\n",
      "Specificity :  0.6470588235294118\n",
      "F1_Score:   0.746\n",
      "The confusion matrix is   [[110   6]\n",
      " [ 24  44]]\n"
     ]
    },
    {
     "data": {
      "image/png": "[encoded data removed]",
      "text/plain": [
       "<Figure size 432x288 with 2 Axes>"
      ]
     },
     "metadata": {
      "needs_background": "light"
     },
     "output_type": "display_data"
    }
   ],
   "source": [
    "#Ridge Classifier\n",
    "clf=RidgeClassifier()\n",
    "clf.fit(tfidf_train, y_train)       # Fit Ridge Regression classifier according to X, y\n",
    "pred = clf.predict(tfidf_test)      # Perform classification on an array of test vectors X.\n",
    "score = metrics.accuracy_score(y_test, pred)\n",
    "print(\"accuracy:   %0.3f\" % score)\n",
    "precision = metrics.precision_score(y_test, pred)\n",
    "print(\"precision:   %0.3f\" % precision)\n",
    "cm = metrics.confusion_matrix(y_test, pred)\n",
    "sensitivity = cm[0,0]/(cm[0,0]+cm[0,1])\n",
    "print('Sensitivity : ', sensitivity )\n",
    "specificity = cm[1,1]/(cm[1,0]+cm[1,1])\n",
    "print('Specificity : ', specificity )\n",
    "f1_score = metrics.f1_score(y_test, pred)\n",
    "print(\"F1_Score:   %0.3f\" % f1_score)\n",
    "print(\"The confusion matrix is  \",cm)\n",
    "\n",
    "sn.heatmap(cm, annot=True, fmt=\"d\") \n",
    "plt.show()"
   ]
  },
  {
   "cell_type": "markdown",
   "metadata": {},
   "source": []
  }
 ],
 "metadata": {
  "kernelspec": {
   "display_name": "Python 3",
   "language": "python",
   "name": "python3"
  },
  "language_info": {
   "codemirror_mode": {
    "name": "ipython",
    "version": 3
   },
   "file_extension": ".py",
   "mimetype": "text/x-python",
   "name": "python",
   "nbconvert_exporter": "python",
   "pygments_lexer": "ipython3",
   "version": "3.7.7"
  }
 },
 "nbformat": 4,
 "nbformat_minor": 4
}
